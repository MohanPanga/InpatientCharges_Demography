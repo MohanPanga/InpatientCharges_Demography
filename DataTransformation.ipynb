{
 "cells": [
  {
   "cell_type": "code",
   "execution_count": 9,
   "metadata": {},
   "outputs": [],
   "source": [
    "import pandas as pd\n",
    "pd.set_option(\"display.max_rows\", 1000)"
   ]
  },
  {
   "cell_type": "code",
   "execution_count": 10,
   "metadata": {},
   "outputs": [],
   "source": [
    "pop_df = pd.read_csv('./Resources/population_by_zip_2010.csv')"
   ]
  },
  {
   "cell_type": "code",
   "execution_count": 11,
   "metadata": {},
   "outputs": [
    {
     "data": {
      "text/plain": [
       "(1622831, 6)"
      ]
     },
     "execution_count": 11,
     "metadata": {},
     "output_type": "execute_result"
    }
   ],
   "source": [
    "pop_df.shape"
   ]
  },
  {
   "cell_type": "code",
   "execution_count": 12,
   "metadata": {},
   "outputs": [
    {
     "data": {
      "text/plain": [
       "33119"
      ]
     },
     "execution_count": 12,
     "metadata": {},
     "output_type": "execute_result"
    }
   ],
   "source": [
    "pop_df['zipcode'].nunique()"
   ]
  },
  {
   "cell_type": "code",
   "execution_count": 13,
   "metadata": {},
   "outputs": [
    {
     "data": {
      "text/plain": [
       "nan"
      ]
     },
     "execution_count": 13,
     "metadata": {},
     "output_type": "execute_result"
    }
   ],
   "source": [
    "pop_df['gender'].iat[36]"
   ]
  },
  {
   "cell_type": "code",
   "execution_count": 14,
   "metadata": {},
   "outputs": [
    {
     "data": {
      "text/html": [
       "<div>\n",
       "<style scoped>\n",
       "    .dataframe tbody tr th:only-of-type {\n",
       "        vertical-align: middle;\n",
       "    }\n",
       "\n",
       "    .dataframe tbody tr th {\n",
       "        vertical-align: top;\n",
       "    }\n",
       "\n",
       "    .dataframe thead th {\n",
       "        text-align: right;\n",
       "    }\n",
       "</style>\n",
       "<table border=\"1\" class=\"dataframe\">\n",
       "  <thead>\n",
       "    <tr style=\"text-align: right;\">\n",
       "      <th></th>\n",
       "      <th>population</th>\n",
       "      <th>minimum_age</th>\n",
       "      <th>maximum_age</th>\n",
       "      <th>gender</th>\n",
       "      <th>zipcode</th>\n",
       "      <th>geo_id</th>\n",
       "    </tr>\n",
       "  </thead>\n",
       "  <tbody>\n",
       "    <tr>\n",
       "      <th>32</th>\n",
       "      <td>2865</td>\n",
       "      <td>NaN</td>\n",
       "      <td>NaN</td>\n",
       "      <td>male</td>\n",
       "      <td>56164</td>\n",
       "      <td>8600000US56164</td>\n",
       "    </tr>\n",
       "    <tr>\n",
       "      <th>36</th>\n",
       "      <td>27669</td>\n",
       "      <td>NaN</td>\n",
       "      <td>NaN</td>\n",
       "      <td>NaN</td>\n",
       "      <td>91324</td>\n",
       "      <td>8600000US91324</td>\n",
       "    </tr>\n",
       "    <tr>\n",
       "      <th>52</th>\n",
       "      <td>443</td>\n",
       "      <td>NaN</td>\n",
       "      <td>NaN</td>\n",
       "      <td>male</td>\n",
       "      <td>97037</td>\n",
       "      <td>8600000US97037</td>\n",
       "    </tr>\n",
       "    <tr>\n",
       "      <th>55</th>\n",
       "      <td>1019</td>\n",
       "      <td>NaN</td>\n",
       "      <td>NaN</td>\n",
       "      <td>male</td>\n",
       "      <td>14604</td>\n",
       "      <td>8600000US14604</td>\n",
       "    </tr>\n",
       "    <tr>\n",
       "      <th>57</th>\n",
       "      <td>132</td>\n",
       "      <td>NaN</td>\n",
       "      <td>NaN</td>\n",
       "      <td>male</td>\n",
       "      <td>74534</td>\n",
       "      <td>8600000US74534</td>\n",
       "    </tr>\n",
       "    <tr>\n",
       "      <th>...</th>\n",
       "      <td>...</td>\n",
       "      <td>...</td>\n",
       "      <td>...</td>\n",
       "      <td>...</td>\n",
       "      <td>...</td>\n",
       "      <td>...</td>\n",
       "    </tr>\n",
       "    <tr>\n",
       "      <th>1622775</th>\n",
       "      <td>8270</td>\n",
       "      <td>NaN</td>\n",
       "      <td>NaN</td>\n",
       "      <td>female</td>\n",
       "      <td>50263</td>\n",
       "      <td>8600000US50263</td>\n",
       "    </tr>\n",
       "    <tr>\n",
       "      <th>1622786</th>\n",
       "      <td>2081</td>\n",
       "      <td>NaN</td>\n",
       "      <td>NaN</td>\n",
       "      <td>male</td>\n",
       "      <td>88415</td>\n",
       "      <td>8600000US88415</td>\n",
       "    </tr>\n",
       "    <tr>\n",
       "      <th>1622791</th>\n",
       "      <td>5062</td>\n",
       "      <td>NaN</td>\n",
       "      <td>NaN</td>\n",
       "      <td>NaN</td>\n",
       "      <td>75709</td>\n",
       "      <td>8600000US75709</td>\n",
       "    </tr>\n",
       "    <tr>\n",
       "      <th>1622810</th>\n",
       "      <td>383</td>\n",
       "      <td>NaN</td>\n",
       "      <td>NaN</td>\n",
       "      <td>male</td>\n",
       "      <td>41835</td>\n",
       "      <td>8600000US41835</td>\n",
       "    </tr>\n",
       "    <tr>\n",
       "      <th>1622816</th>\n",
       "      <td>92</td>\n",
       "      <td>NaN</td>\n",
       "      <td>NaN</td>\n",
       "      <td>male</td>\n",
       "      <td>18913</td>\n",
       "      <td>8600000US18913</td>\n",
       "    </tr>\n",
       "  </tbody>\n",
       "</table>\n",
       "<p>99357 rows × 6 columns</p>\n",
       "</div>"
      ],
      "text/plain": [
       "         population  minimum_age  maximum_age  gender  zipcode          geo_id\n",
       "32             2865          NaN          NaN    male    56164  8600000US56164\n",
       "36            27669          NaN          NaN     NaN    91324  8600000US91324\n",
       "52              443          NaN          NaN    male    97037  8600000US97037\n",
       "55             1019          NaN          NaN    male    14604  8600000US14604\n",
       "57              132          NaN          NaN    male    74534  8600000US74534\n",
       "...             ...          ...          ...     ...      ...             ...\n",
       "1622775        8270          NaN          NaN  female    50263  8600000US50263\n",
       "1622786        2081          NaN          NaN    male    88415  8600000US88415\n",
       "1622791        5062          NaN          NaN     NaN    75709  8600000US75709\n",
       "1622810         383          NaN          NaN    male    41835  8600000US41835\n",
       "1622816          92          NaN          NaN    male    18913  8600000US18913\n",
       "\n",
       "[99357 rows x 6 columns]"
      ]
     },
     "execution_count": 14,
     "metadata": {},
     "output_type": "execute_result"
    }
   ],
   "source": [
    "pop_df[(pop_df['minimum_age'].isnull())]"
   ]
  },
  {
   "cell_type": "code",
   "execution_count": 15,
   "metadata": {},
   "outputs": [],
   "source": [
    "pop_df.dropna(subset=['minimum_age'],inplace=True)"
   ]
  },
  {
   "cell_type": "code",
   "execution_count": 16,
   "metadata": {},
   "outputs": [
    {
     "data": {
      "text/html": [
       "<div>\n",
       "<style scoped>\n",
       "    .dataframe tbody tr th:only-of-type {\n",
       "        vertical-align: middle;\n",
       "    }\n",
       "\n",
       "    .dataframe tbody tr th {\n",
       "        vertical-align: top;\n",
       "    }\n",
       "\n",
       "    .dataframe thead th {\n",
       "        text-align: right;\n",
       "    }\n",
       "</style>\n",
       "<table border=\"1\" class=\"dataframe\">\n",
       "  <thead>\n",
       "    <tr style=\"text-align: right;\">\n",
       "      <th></th>\n",
       "      <th>population</th>\n",
       "      <th>minimum_age</th>\n",
       "      <th>maximum_age</th>\n",
       "      <th>gender</th>\n",
       "      <th>zipcode</th>\n",
       "      <th>geo_id</th>\n",
       "    </tr>\n",
       "  </thead>\n",
       "  <tbody>\n",
       "  </tbody>\n",
       "</table>\n",
       "</div>"
      ],
      "text/plain": [
       "Empty DataFrame\n",
       "Columns: [population, minimum_age, maximum_age, gender, zipcode, geo_id]\n",
       "Index: []"
      ]
     },
     "execution_count": 16,
     "metadata": {},
     "output_type": "execute_result"
    }
   ],
   "source": [
    "pop_df[(pop_df['gender']=='NaN')]"
   ]
  },
  {
   "cell_type": "code",
   "execution_count": 17,
   "metadata": {},
   "outputs": [
    {
     "data": {
      "text/plain": [
       "(1523474, 6)"
      ]
     },
     "execution_count": 17,
     "metadata": {},
     "output_type": "execute_result"
    }
   ],
   "source": [
    "pop_df.shape"
   ]
  },
  {
   "cell_type": "markdown",
   "metadata": {},
   "source": [
    "## Population Dataframe for upload to Postgres"
   ]
  },
  {
   "cell_type": "code",
   "execution_count": 18,
   "metadata": {},
   "outputs": [],
   "source": [
    "population_df = pop_df[['population', 'minimum_age','maximum_age', 'gender', 'zipcode']].copy(deep=True)"
   ]
  },
  {
   "cell_type": "code",
   "execution_count": 19,
   "metadata": {},
   "outputs": [
    {
     "data": {
      "text/html": [
       "<div>\n",
       "<style scoped>\n",
       "    .dataframe tbody tr th:only-of-type {\n",
       "        vertical-align: middle;\n",
       "    }\n",
       "\n",
       "    .dataframe tbody tr th {\n",
       "        vertical-align: top;\n",
       "    }\n",
       "\n",
       "    .dataframe thead th {\n",
       "        text-align: right;\n",
       "    }\n",
       "</style>\n",
       "<table border=\"1\" class=\"dataframe\">\n",
       "  <thead>\n",
       "    <tr style=\"text-align: right;\">\n",
       "      <th></th>\n",
       "      <th>population</th>\n",
       "      <th>minimum_age</th>\n",
       "      <th>maximum_age</th>\n",
       "      <th>gender</th>\n",
       "      <th>zipcode</th>\n",
       "    </tr>\n",
       "  </thead>\n",
       "  <tbody>\n",
       "    <tr>\n",
       "      <th>0</th>\n",
       "      <td>50</td>\n",
       "      <td>30.0</td>\n",
       "      <td>34.0</td>\n",
       "      <td>female</td>\n",
       "      <td>61747</td>\n",
       "    </tr>\n",
       "    <tr>\n",
       "      <th>1</th>\n",
       "      <td>5</td>\n",
       "      <td>85.0</td>\n",
       "      <td>NaN</td>\n",
       "      <td>male</td>\n",
       "      <td>64120</td>\n",
       "    </tr>\n",
       "    <tr>\n",
       "      <th>2</th>\n",
       "      <td>1389</td>\n",
       "      <td>30.0</td>\n",
       "      <td>34.0</td>\n",
       "      <td>male</td>\n",
       "      <td>95117</td>\n",
       "    </tr>\n",
       "    <tr>\n",
       "      <th>3</th>\n",
       "      <td>231</td>\n",
       "      <td>60.0</td>\n",
       "      <td>61.0</td>\n",
       "      <td>female</td>\n",
       "      <td>74074</td>\n",
       "    </tr>\n",
       "    <tr>\n",
       "      <th>4</th>\n",
       "      <td>56</td>\n",
       "      <td>0.0</td>\n",
       "      <td>4.0</td>\n",
       "      <td>female</td>\n",
       "      <td>58042</td>\n",
       "    </tr>\n",
       "  </tbody>\n",
       "</table>\n",
       "</div>"
      ],
      "text/plain": [
       "   population  minimum_age  maximum_age  gender  zipcode\n",
       "0          50         30.0         34.0  female    61747\n",
       "1           5         85.0          NaN    male    64120\n",
       "2        1389         30.0         34.0    male    95117\n",
       "3         231         60.0         61.0  female    74074\n",
       "4          56          0.0          4.0  female    58042"
      ]
     },
     "execution_count": 19,
     "metadata": {},
     "output_type": "execute_result"
    }
   ],
   "source": [
    "population_df.head()"
   ]
  },
  {
   "cell_type": "code",
   "execution_count": 20,
   "metadata": {},
   "outputs": [],
   "source": [
    "from sqlalchemy import create_engine\n",
    "conn = \"postgres:password@localhost:5432/inpatient_charges_db\"\n",
    "engine = create_engine(f'postgresql://{conn}')\n"
   ]
  },
  {
   "cell_type": "code",
   "execution_count": 21,
   "metadata": {},
   "outputs": [
    {
     "data": {
      "text/plain": [
       "['income', 'population', 'provider', 'inpatient']"
      ]
     },
     "execution_count": 21,
     "metadata": {},
     "output_type": "execute_result"
    }
   ],
   "source": [
    "engine.table_names()"
   ]
  },
  {
   "cell_type": "code",
   "execution_count": 22,
   "metadata": {},
   "outputs": [],
   "source": [
    "population_df.to_sql(name = 'population', con=engine, if_exists='append', index=False)"
   ]
  },
  {
   "cell_type": "code",
   "execution_count": null,
   "metadata": {},
   "outputs": [],
   "source": []
  },
  {
   "cell_type": "code",
   "execution_count": 23,
   "metadata": {},
   "outputs": [],
   "source": [
    "income_df = pd.read_csv('./Resources/kaggle_income.csv', encoding='latin-1')"
   ]
  },
  {
   "cell_type": "code",
   "execution_count": 24,
   "metadata": {},
   "outputs": [
    {
     "data": {
      "text/plain": [
       "78584    10\n",
       "78582     7\n",
       "66749     4\n",
       "95076     4\n",
       "21502     4\n",
       "         ..\n",
       "60060     1\n",
       "45723     1\n",
       "53578     1\n",
       "19096     1\n",
       "77546     1\n",
       "Name: Zip_Code, Length: 2863, dtype: int64"
      ]
     },
     "execution_count": 24,
     "metadata": {},
     "output_type": "execute_result"
    }
   ],
   "source": [
    "income_df[income_df['Primary'] == 'place']['Zip_Code'].value_counts()"
   ]
  },
  {
   "cell_type": "code",
   "execution_count": 25,
   "metadata": {},
   "outputs": [],
   "source": [
    "income_df = income_df[income_df['Primary'] == 'place']"
   ]
  },
  {
   "cell_type": "markdown",
   "metadata": {},
   "source": [
    "## Income DataFrame for upload to Postgres"
   ]
  },
  {
   "cell_type": "code",
   "execution_count": 26,
   "metadata": {},
   "outputs": [],
   "source": [
    "income_df = income_df[['State_Name','County','City','Place','Type','Zip_Code','Mean','Median','Stdev']]"
   ]
  },
  {
   "cell_type": "code",
   "execution_count": 27,
   "metadata": {},
   "outputs": [
    {
     "data": {
      "text/html": [
       "<div>\n",
       "<style scoped>\n",
       "    .dataframe tbody tr th:only-of-type {\n",
       "        vertical-align: middle;\n",
       "    }\n",
       "\n",
       "    .dataframe tbody tr th {\n",
       "        vertical-align: top;\n",
       "    }\n",
       "\n",
       "    .dataframe thead th {\n",
       "        text-align: right;\n",
       "    }\n",
       "</style>\n",
       "<table border=\"1\" class=\"dataframe\">\n",
       "  <thead>\n",
       "    <tr style=\"text-align: right;\">\n",
       "      <th></th>\n",
       "      <th>State_Name</th>\n",
       "      <th>County</th>\n",
       "      <th>City</th>\n",
       "      <th>Place</th>\n",
       "      <th>Type</th>\n",
       "      <th>Zip_Code</th>\n",
       "      <th>Mean</th>\n",
       "      <th>Median</th>\n",
       "      <th>Stdev</th>\n",
       "    </tr>\n",
       "  </thead>\n",
       "  <tbody>\n",
       "    <tr>\n",
       "      <th>0</th>\n",
       "      <td>Alabama</td>\n",
       "      <td>Mobile County</td>\n",
       "      <td>Chickasaw</td>\n",
       "      <td>Chickasaw city</td>\n",
       "      <td>City</td>\n",
       "      <td>36611</td>\n",
       "      <td>38773</td>\n",
       "      <td>30506</td>\n",
       "      <td>33101</td>\n",
       "    </tr>\n",
       "    <tr>\n",
       "      <th>1</th>\n",
       "      <td>Alabama</td>\n",
       "      <td>Barbour County</td>\n",
       "      <td>Louisville</td>\n",
       "      <td>Clio city</td>\n",
       "      <td>City</td>\n",
       "      <td>36048</td>\n",
       "      <td>37725</td>\n",
       "      <td>19528</td>\n",
       "      <td>43789</td>\n",
       "    </tr>\n",
       "    <tr>\n",
       "      <th>2</th>\n",
       "      <td>Alabama</td>\n",
       "      <td>Shelby County</td>\n",
       "      <td>Columbiana</td>\n",
       "      <td>Columbiana city</td>\n",
       "      <td>City</td>\n",
       "      <td>35051</td>\n",
       "      <td>54606</td>\n",
       "      <td>31930</td>\n",
       "      <td>57348</td>\n",
       "    </tr>\n",
       "    <tr>\n",
       "      <th>3</th>\n",
       "      <td>Alabama</td>\n",
       "      <td>Mobile County</td>\n",
       "      <td>Satsuma</td>\n",
       "      <td>Creola city</td>\n",
       "      <td>City</td>\n",
       "      <td>36572</td>\n",
       "      <td>63919</td>\n",
       "      <td>52814</td>\n",
       "      <td>47707</td>\n",
       "    </tr>\n",
       "    <tr>\n",
       "      <th>4</th>\n",
       "      <td>Alabama</td>\n",
       "      <td>Mobile County</td>\n",
       "      <td>Dauphin Island</td>\n",
       "      <td>Dauphin Island</td>\n",
       "      <td>Town</td>\n",
       "      <td>36528</td>\n",
       "      <td>77948</td>\n",
       "      <td>67225</td>\n",
       "      <td>54270</td>\n",
       "    </tr>\n",
       "  </tbody>\n",
       "</table>\n",
       "</div>"
      ],
      "text/plain": [
       "  State_Name          County            City            Place  Type  Zip_Code  \\\n",
       "0    Alabama   Mobile County       Chickasaw   Chickasaw city  City     36611   \n",
       "1    Alabama  Barbour County      Louisville        Clio city  City     36048   \n",
       "2    Alabama   Shelby County      Columbiana  Columbiana city  City     35051   \n",
       "3    Alabama   Mobile County         Satsuma      Creola city  City     36572   \n",
       "4    Alabama   Mobile County  Dauphin Island   Dauphin Island  Town     36528   \n",
       "\n",
       "    Mean  Median  Stdev  \n",
       "0  38773   30506  33101  \n",
       "1  37725   19528  43789  \n",
       "2  54606   31930  57348  \n",
       "3  63919   52814  47707  \n",
       "4  77948   67225  54270  "
      ]
     },
     "execution_count": 27,
     "metadata": {},
     "output_type": "execute_result"
    }
   ],
   "source": [
    "income_df.head()"
   ]
  },
  {
   "cell_type": "code",
   "execution_count": 28,
   "metadata": {},
   "outputs": [],
   "source": [
    "income_df[['Zip_Code', 'City']].sort_values('Zip_Code')\n",
    "income_df.rename(columns={'Zip_Code':'zipcode'}, inplace=True)"
   ]
  },
  {
   "cell_type": "code",
   "execution_count": 29,
   "metadata": {},
   "outputs": [
    {
     "data": {
      "text/html": [
       "<div>\n",
       "<style scoped>\n",
       "    .dataframe tbody tr th:only-of-type {\n",
       "        vertical-align: middle;\n",
       "    }\n",
       "\n",
       "    .dataframe tbody tr th {\n",
       "        vertical-align: top;\n",
       "    }\n",
       "\n",
       "    .dataframe thead th {\n",
       "        text-align: right;\n",
       "    }\n",
       "</style>\n",
       "<table border=\"1\" class=\"dataframe\">\n",
       "  <thead>\n",
       "    <tr style=\"text-align: right;\">\n",
       "      <th></th>\n",
       "      <th>State_Name</th>\n",
       "      <th>County</th>\n",
       "      <th>City</th>\n",
       "      <th>Place</th>\n",
       "      <th>Type</th>\n",
       "      <th>zipcode</th>\n",
       "      <th>Mean</th>\n",
       "      <th>Median</th>\n",
       "      <th>Stdev</th>\n",
       "    </tr>\n",
       "  </thead>\n",
       "  <tbody>\n",
       "    <tr>\n",
       "      <th>0</th>\n",
       "      <td>Alabama</td>\n",
       "      <td>Mobile County</td>\n",
       "      <td>Chickasaw</td>\n",
       "      <td>Chickasaw city</td>\n",
       "      <td>City</td>\n",
       "      <td>36611</td>\n",
       "      <td>38773</td>\n",
       "      <td>30506</td>\n",
       "      <td>33101</td>\n",
       "    </tr>\n",
       "    <tr>\n",
       "      <th>1</th>\n",
       "      <td>Alabama</td>\n",
       "      <td>Barbour County</td>\n",
       "      <td>Louisville</td>\n",
       "      <td>Clio city</td>\n",
       "      <td>City</td>\n",
       "      <td>36048</td>\n",
       "      <td>37725</td>\n",
       "      <td>19528</td>\n",
       "      <td>43789</td>\n",
       "    </tr>\n",
       "    <tr>\n",
       "      <th>2</th>\n",
       "      <td>Alabama</td>\n",
       "      <td>Shelby County</td>\n",
       "      <td>Columbiana</td>\n",
       "      <td>Columbiana city</td>\n",
       "      <td>City</td>\n",
       "      <td>35051</td>\n",
       "      <td>54606</td>\n",
       "      <td>31930</td>\n",
       "      <td>57348</td>\n",
       "    </tr>\n",
       "    <tr>\n",
       "      <th>3</th>\n",
       "      <td>Alabama</td>\n",
       "      <td>Mobile County</td>\n",
       "      <td>Satsuma</td>\n",
       "      <td>Creola city</td>\n",
       "      <td>City</td>\n",
       "      <td>36572</td>\n",
       "      <td>63919</td>\n",
       "      <td>52814</td>\n",
       "      <td>47707</td>\n",
       "    </tr>\n",
       "    <tr>\n",
       "      <th>4</th>\n",
       "      <td>Alabama</td>\n",
       "      <td>Mobile County</td>\n",
       "      <td>Dauphin Island</td>\n",
       "      <td>Dauphin Island</td>\n",
       "      <td>Town</td>\n",
       "      <td>36528</td>\n",
       "      <td>77948</td>\n",
       "      <td>67225</td>\n",
       "      <td>54270</td>\n",
       "    </tr>\n",
       "  </tbody>\n",
       "</table>\n",
       "</div>"
      ],
      "text/plain": [
       "  State_Name          County            City            Place  Type  zipcode  \\\n",
       "0    Alabama   Mobile County       Chickasaw   Chickasaw city  City    36611   \n",
       "1    Alabama  Barbour County      Louisville        Clio city  City    36048   \n",
       "2    Alabama   Shelby County      Columbiana  Columbiana city  City    35051   \n",
       "3    Alabama   Mobile County         Satsuma      Creola city  City    36572   \n",
       "4    Alabama   Mobile County  Dauphin Island   Dauphin Island  Town    36528   \n",
       "\n",
       "    Mean  Median  Stdev  \n",
       "0  38773   30506  33101  \n",
       "1  37725   19528  43789  \n",
       "2  54606   31930  57348  \n",
       "3  63919   52814  47707  \n",
       "4  77948   67225  54270  "
      ]
     },
     "execution_count": 29,
     "metadata": {},
     "output_type": "execute_result"
    }
   ],
   "source": [
    "income_df.head()"
   ]
  },
  {
   "cell_type": "code",
   "execution_count": 30,
   "metadata": {},
   "outputs": [
    {
     "data": {
      "text/plain": [
       "['income', 'population', 'provider', 'inpatient']"
      ]
     },
     "execution_count": 30,
     "metadata": {},
     "output_type": "execute_result"
    }
   ],
   "source": [
    "engine.table_names()"
   ]
  },
  {
   "cell_type": "code",
   "execution_count": 31,
   "metadata": {},
   "outputs": [],
   "source": [
    "income_df.to_sql(name = 'income', con=engine, if_exists='append', index=False)"
   ]
  },
  {
   "cell_type": "code",
   "execution_count": null,
   "metadata": {},
   "outputs": [],
   "source": []
  },
  {
   "cell_type": "code",
   "execution_count": null,
   "metadata": {},
   "outputs": [],
   "source": []
  },
  {
   "cell_type": "code",
   "execution_count": 32,
   "metadata": {},
   "outputs": [],
   "source": [
    "inpatient_df = pd.read_csv('./Resources/inpatientCharges.csv')"
   ]
  },
  {
   "cell_type": "code",
   "execution_count": 33,
   "metadata": {},
   "outputs": [
    {
     "data": {
      "text/html": [
       "<div>\n",
       "<style scoped>\n",
       "    .dataframe tbody tr th:only-of-type {\n",
       "        vertical-align: middle;\n",
       "    }\n",
       "\n",
       "    .dataframe tbody tr th {\n",
       "        vertical-align: top;\n",
       "    }\n",
       "\n",
       "    .dataframe thead th {\n",
       "        text-align: right;\n",
       "    }\n",
       "</style>\n",
       "<table border=\"1\" class=\"dataframe\">\n",
       "  <thead>\n",
       "    <tr style=\"text-align: right;\">\n",
       "      <th></th>\n",
       "      <th>DRG Definition</th>\n",
       "      <th>Provider Id</th>\n",
       "      <th>Provider Name</th>\n",
       "      <th>Provider Street Address</th>\n",
       "      <th>Provider City</th>\n",
       "      <th>Provider State</th>\n",
       "      <th>Provider Zip Code</th>\n",
       "      <th>Hospital Referral Region Description</th>\n",
       "      <th>Total Discharges</th>\n",
       "      <th>Average Covered Charges</th>\n",
       "      <th>Average Total Payments</th>\n",
       "      <th>Average Medicare Payments</th>\n",
       "    </tr>\n",
       "  </thead>\n",
       "  <tbody>\n",
       "    <tr>\n",
       "      <th>0</th>\n",
       "      <td>039 - EXTRACRANIAL PROCEDURES W/O CC/MCC</td>\n",
       "      <td>10001</td>\n",
       "      <td>SOUTHEAST ALABAMA MEDICAL CENTER</td>\n",
       "      <td>1108 ROSS CLARK CIRCLE</td>\n",
       "      <td>DOTHAN</td>\n",
       "      <td>AL</td>\n",
       "      <td>36301</td>\n",
       "      <td>AL - Dothan</td>\n",
       "      <td>91</td>\n",
       "      <td>$32963.07</td>\n",
       "      <td>$5777.24</td>\n",
       "      <td>$4763.73</td>\n",
       "    </tr>\n",
       "    <tr>\n",
       "      <th>1</th>\n",
       "      <td>039 - EXTRACRANIAL PROCEDURES W/O CC/MCC</td>\n",
       "      <td>10005</td>\n",
       "      <td>MARSHALL MEDICAL CENTER SOUTH</td>\n",
       "      <td>2505 U S HIGHWAY 431 NORTH</td>\n",
       "      <td>BOAZ</td>\n",
       "      <td>AL</td>\n",
       "      <td>35957</td>\n",
       "      <td>AL - Birmingham</td>\n",
       "      <td>14</td>\n",
       "      <td>$15131.85</td>\n",
       "      <td>$5787.57</td>\n",
       "      <td>$4976.71</td>\n",
       "    </tr>\n",
       "    <tr>\n",
       "      <th>2</th>\n",
       "      <td>039 - EXTRACRANIAL PROCEDURES W/O CC/MCC</td>\n",
       "      <td>10006</td>\n",
       "      <td>ELIZA COFFEE MEMORIAL HOSPITAL</td>\n",
       "      <td>205 MARENGO STREET</td>\n",
       "      <td>FLORENCE</td>\n",
       "      <td>AL</td>\n",
       "      <td>35631</td>\n",
       "      <td>AL - Birmingham</td>\n",
       "      <td>24</td>\n",
       "      <td>$37560.37</td>\n",
       "      <td>$5434.95</td>\n",
       "      <td>$4453.79</td>\n",
       "    </tr>\n",
       "    <tr>\n",
       "      <th>3</th>\n",
       "      <td>039 - EXTRACRANIAL PROCEDURES W/O CC/MCC</td>\n",
       "      <td>10011</td>\n",
       "      <td>ST VINCENT'S EAST</td>\n",
       "      <td>50 MEDICAL PARK EAST DRIVE</td>\n",
       "      <td>BIRMINGHAM</td>\n",
       "      <td>AL</td>\n",
       "      <td>35235</td>\n",
       "      <td>AL - Birmingham</td>\n",
       "      <td>25</td>\n",
       "      <td>$13998.28</td>\n",
       "      <td>$5417.56</td>\n",
       "      <td>$4129.16</td>\n",
       "    </tr>\n",
       "    <tr>\n",
       "      <th>4</th>\n",
       "      <td>039 - EXTRACRANIAL PROCEDURES W/O CC/MCC</td>\n",
       "      <td>10016</td>\n",
       "      <td>SHELBY BAPTIST MEDICAL CENTER</td>\n",
       "      <td>1000 FIRST STREET NORTH</td>\n",
       "      <td>ALABASTER</td>\n",
       "      <td>AL</td>\n",
       "      <td>35007</td>\n",
       "      <td>AL - Birmingham</td>\n",
       "      <td>18</td>\n",
       "      <td>$31633.27</td>\n",
       "      <td>$5658.33</td>\n",
       "      <td>$4851.44</td>\n",
       "    </tr>\n",
       "  </tbody>\n",
       "</table>\n",
       "</div>"
      ],
      "text/plain": [
       "                             DRG Definition  Provider Id  \\\n",
       "0  039 - EXTRACRANIAL PROCEDURES W/O CC/MCC        10001   \n",
       "1  039 - EXTRACRANIAL PROCEDURES W/O CC/MCC        10005   \n",
       "2  039 - EXTRACRANIAL PROCEDURES W/O CC/MCC        10006   \n",
       "3  039 - EXTRACRANIAL PROCEDURES W/O CC/MCC        10011   \n",
       "4  039 - EXTRACRANIAL PROCEDURES W/O CC/MCC        10016   \n",
       "\n",
       "                      Provider Name     Provider Street Address Provider City  \\\n",
       "0  SOUTHEAST ALABAMA MEDICAL CENTER      1108 ROSS CLARK CIRCLE        DOTHAN   \n",
       "1     MARSHALL MEDICAL CENTER SOUTH  2505 U S HIGHWAY 431 NORTH          BOAZ   \n",
       "2    ELIZA COFFEE MEMORIAL HOSPITAL          205 MARENGO STREET      FLORENCE   \n",
       "3                 ST VINCENT'S EAST  50 MEDICAL PARK EAST DRIVE    BIRMINGHAM   \n",
       "4     SHELBY BAPTIST MEDICAL CENTER     1000 FIRST STREET NORTH     ALABASTER   \n",
       "\n",
       "  Provider State  Provider Zip Code Hospital Referral Region Description  \\\n",
       "0             AL              36301                          AL - Dothan   \n",
       "1             AL              35957                      AL - Birmingham   \n",
       "2             AL              35631                      AL - Birmingham   \n",
       "3             AL              35235                      AL - Birmingham   \n",
       "4             AL              35007                      AL - Birmingham   \n",
       "\n",
       "    Total Discharges   Average Covered Charges   Average Total Payments   \\\n",
       "0                  91                 $32963.07                 $5777.24   \n",
       "1                  14                 $15131.85                 $5787.57   \n",
       "2                  24                 $37560.37                 $5434.95   \n",
       "3                  25                 $13998.28                 $5417.56   \n",
       "4                  18                 $31633.27                 $5658.33   \n",
       "\n",
       "  Average Medicare Payments  \n",
       "0                  $4763.73  \n",
       "1                  $4976.71  \n",
       "2                  $4453.79  \n",
       "3                  $4129.16  \n",
       "4                  $4851.44  "
      ]
     },
     "execution_count": 33,
     "metadata": {},
     "output_type": "execute_result"
    }
   ],
   "source": [
    "inpatient_df.head()"
   ]
  },
  {
   "cell_type": "markdown",
   "metadata": {},
   "source": [
    "## Provider Dataframe"
   ]
  },
  {
   "cell_type": "code",
   "execution_count": 34,
   "metadata": {},
   "outputs": [
    {
     "data": {
      "text/plain": [
       "159728"
      ]
     },
     "execution_count": 34,
     "metadata": {},
     "output_type": "execute_result"
    }
   ],
   "source": [
    "provider_df = inpatient_df[['Provider Id','Provider Name','Provider City','Provider State','Provider Zip Code']].copy(deep=True)\n",
    "provider_df[\"Provider Id\"].duplicated().sum()"
   ]
  },
  {
   "cell_type": "code",
   "execution_count": 35,
   "metadata": {},
   "outputs": [
    {
     "data": {
      "text/html": [
       "<div>\n",
       "<style scoped>\n",
       "    .dataframe tbody tr th:only-of-type {\n",
       "        vertical-align: middle;\n",
       "    }\n",
       "\n",
       "    .dataframe tbody tr th {\n",
       "        vertical-align: top;\n",
       "    }\n",
       "\n",
       "    .dataframe thead th {\n",
       "        text-align: right;\n",
       "    }\n",
       "</style>\n",
       "<table border=\"1\" class=\"dataframe\">\n",
       "  <thead>\n",
       "    <tr style=\"text-align: right;\">\n",
       "      <th></th>\n",
       "      <th>ProviderId</th>\n",
       "      <th>ProviderName</th>\n",
       "      <th>ProviderCity</th>\n",
       "      <th>ProviderState</th>\n",
       "      <th>zipcode</th>\n",
       "    </tr>\n",
       "  </thead>\n",
       "  <tbody>\n",
       "    <tr>\n",
       "      <th>0</th>\n",
       "      <td>10001</td>\n",
       "      <td>SOUTHEAST ALABAMA MEDICAL CENTER</td>\n",
       "      <td>DOTHAN</td>\n",
       "      <td>AL</td>\n",
       "      <td>36301</td>\n",
       "    </tr>\n",
       "    <tr>\n",
       "      <th>1</th>\n",
       "      <td>10005</td>\n",
       "      <td>MARSHALL MEDICAL CENTER SOUTH</td>\n",
       "      <td>BOAZ</td>\n",
       "      <td>AL</td>\n",
       "      <td>35957</td>\n",
       "    </tr>\n",
       "    <tr>\n",
       "      <th>2</th>\n",
       "      <td>10006</td>\n",
       "      <td>ELIZA COFFEE MEMORIAL HOSPITAL</td>\n",
       "      <td>FLORENCE</td>\n",
       "      <td>AL</td>\n",
       "      <td>35631</td>\n",
       "    </tr>\n",
       "    <tr>\n",
       "      <th>3</th>\n",
       "      <td>10011</td>\n",
       "      <td>ST VINCENT'S EAST</td>\n",
       "      <td>BIRMINGHAM</td>\n",
       "      <td>AL</td>\n",
       "      <td>35235</td>\n",
       "    </tr>\n",
       "    <tr>\n",
       "      <th>4</th>\n",
       "      <td>10016</td>\n",
       "      <td>SHELBY BAPTIST MEDICAL CENTER</td>\n",
       "      <td>ALABASTER</td>\n",
       "      <td>AL</td>\n",
       "      <td>35007</td>\n",
       "    </tr>\n",
       "  </tbody>\n",
       "</table>\n",
       "</div>"
      ],
      "text/plain": [
       "   ProviderId                      ProviderName ProviderCity ProviderState  \\\n",
       "0       10001  SOUTHEAST ALABAMA MEDICAL CENTER       DOTHAN            AL   \n",
       "1       10005     MARSHALL MEDICAL CENTER SOUTH         BOAZ            AL   \n",
       "2       10006    ELIZA COFFEE MEMORIAL HOSPITAL     FLORENCE            AL   \n",
       "3       10011                 ST VINCENT'S EAST   BIRMINGHAM            AL   \n",
       "4       10016     SHELBY BAPTIST MEDICAL CENTER    ALABASTER            AL   \n",
       "\n",
       "   zipcode  \n",
       "0    36301  \n",
       "1    35957  \n",
       "2    35631  \n",
       "3    35235  \n",
       "4    35007  "
      ]
     },
     "execution_count": 35,
     "metadata": {},
     "output_type": "execute_result"
    }
   ],
   "source": [
    "provider_df['Provider Id'].nunique()\n",
    "provider_df.drop_duplicates(inplace=True)\n",
    "# provider_df.duplicated()\n",
    "provider_df.shape\n",
    "provider_df.rename(columns={'Provider Zip Code':'zipcode'}, inplace=True)\n",
    "provider_df.columns = provider_df.columns.str.replace(\" \",\"\")\n",
    "provider_df.head()\n",
    "# provider_df[\"Provider Id\"].duplicated().sum()"
   ]
  },
  {
   "cell_type": "code",
   "execution_count": 36,
   "metadata": {},
   "outputs": [
    {
     "data": {
      "text/plain": [
       "['income', 'population', 'provider', 'inpatient']"
      ]
     },
     "execution_count": 36,
     "metadata": {},
     "output_type": "execute_result"
    }
   ],
   "source": [
    "engine.table_names()"
   ]
  },
  {
   "cell_type": "code",
   "execution_count": 42,
   "metadata": {},
   "outputs": [],
   "source": [
    "provider_df.to_sql(name = 'provider', con=engine, if_exists='append', index=False)"
   ]
  },
  {
   "cell_type": "code",
   "execution_count": null,
   "metadata": {},
   "outputs": [],
   "source": []
  },
  {
   "cell_type": "markdown",
   "metadata": {},
   "source": [
    "## InpatientCharges Dataframe"
   ]
  },
  {
   "cell_type": "code",
   "execution_count": 38,
   "metadata": {},
   "outputs": [
    {
     "name": "stderr",
     "output_type": "stream",
     "text": [
      "/Users/mohanpanga/opt/anaconda3/lib/python3.8/site-packages/pandas/core/indexing.py:1745: SettingWithCopyWarning: \n",
      "A value is trying to be set on a copy of a slice from a DataFrame.\n",
      "Try using .loc[row_indexer,col_indexer] = value instead\n",
      "\n",
      "See the caveats in the documentation: https://pandas.pydata.org/pandas-docs/stable/user_guide/indexing.html#returning-a-view-versus-a-copy\n",
      "  isetter(ilocs[0], value)\n"
     ]
    },
    {
     "data": {
      "text/html": [
       "<div>\n",
       "<style scoped>\n",
       "    .dataframe tbody tr th:only-of-type {\n",
       "        vertical-align: middle;\n",
       "    }\n",
       "\n",
       "    .dataframe tbody tr th {\n",
       "        vertical-align: top;\n",
       "    }\n",
       "\n",
       "    .dataframe thead th {\n",
       "        text-align: right;\n",
       "    }\n",
       "</style>\n",
       "<table border=\"1\" class=\"dataframe\">\n",
       "  <thead>\n",
       "    <tr style=\"text-align: right;\">\n",
       "      <th></th>\n",
       "      <th>DRGDefinition</th>\n",
       "      <th>ProviderId</th>\n",
       "      <th>TotalDischarges</th>\n",
       "      <th>AverageCoveredCharges</th>\n",
       "      <th>AverageTotalPayments</th>\n",
       "      <th>AverageMedicarePayments</th>\n",
       "    </tr>\n",
       "  </thead>\n",
       "  <tbody>\n",
       "    <tr>\n",
       "      <th>0</th>\n",
       "      <td>039 - EXTRACRANIAL PROCEDURES W/O CC/MCC</td>\n",
       "      <td>10001</td>\n",
       "      <td>91</td>\n",
       "      <td>32963.07</td>\n",
       "      <td>5777.24</td>\n",
       "      <td>4763.73</td>\n",
       "    </tr>\n",
       "    <tr>\n",
       "      <th>1</th>\n",
       "      <td>039 - EXTRACRANIAL PROCEDURES W/O CC/MCC</td>\n",
       "      <td>10005</td>\n",
       "      <td>14</td>\n",
       "      <td>15131.85</td>\n",
       "      <td>5787.57</td>\n",
       "      <td>4976.71</td>\n",
       "    </tr>\n",
       "    <tr>\n",
       "      <th>2</th>\n",
       "      <td>039 - EXTRACRANIAL PROCEDURES W/O CC/MCC</td>\n",
       "      <td>10006</td>\n",
       "      <td>24</td>\n",
       "      <td>37560.37</td>\n",
       "      <td>5434.95</td>\n",
       "      <td>4453.79</td>\n",
       "    </tr>\n",
       "    <tr>\n",
       "      <th>3</th>\n",
       "      <td>039 - EXTRACRANIAL PROCEDURES W/O CC/MCC</td>\n",
       "      <td>10011</td>\n",
       "      <td>25</td>\n",
       "      <td>13998.28</td>\n",
       "      <td>5417.56</td>\n",
       "      <td>4129.16</td>\n",
       "    </tr>\n",
       "    <tr>\n",
       "      <th>4</th>\n",
       "      <td>039 - EXTRACRANIAL PROCEDURES W/O CC/MCC</td>\n",
       "      <td>10016</td>\n",
       "      <td>18</td>\n",
       "      <td>31633.27</td>\n",
       "      <td>5658.33</td>\n",
       "      <td>4851.44</td>\n",
       "    </tr>\n",
       "  </tbody>\n",
       "</table>\n",
       "</div>"
      ],
      "text/plain": [
       "                              DRGDefinition  ProviderId  TotalDischarges  \\\n",
       "0  039 - EXTRACRANIAL PROCEDURES W/O CC/MCC       10001               91   \n",
       "1  039 - EXTRACRANIAL PROCEDURES W/O CC/MCC       10005               14   \n",
       "2  039 - EXTRACRANIAL PROCEDURES W/O CC/MCC       10006               24   \n",
       "3  039 - EXTRACRANIAL PROCEDURES W/O CC/MCC       10011               25   \n",
       "4  039 - EXTRACRANIAL PROCEDURES W/O CC/MCC       10016               18   \n",
       "\n",
       "   AverageCoveredCharges  AverageTotalPayments  AverageMedicarePayments  \n",
       "0               32963.07               5777.24                  4763.73  \n",
       "1               15131.85               5787.57                  4976.71  \n",
       "2               37560.37               5434.95                  4453.79  \n",
       "3               13998.28               5417.56                  4129.16  \n",
       "4               31633.27               5658.33                  4851.44  "
      ]
     },
     "execution_count": 38,
     "metadata": {},
     "output_type": "execute_result"
    }
   ],
   "source": [
    "inpatientcharges_df = inpatient_df[['DRG Definition','Provider Id',' Total Discharges ', ' Average Covered Charges ',' Average Total Payments ', 'Average Medicare Payments']]\n",
    "headers = [' Average Covered Charges ',' Average Total Payments ', 'Average Medicare Payments']\n",
    "for header in headers:\n",
    "    inpatientcharges_df.loc[:,header] = inpatientcharges_df.loc[:,header].str.replace(\"$\",\"\").astype(float)\n",
    "inpatientcharges_df.columns = inpatientcharges_df.columns.str.replace(\" \",\"\")\n",
    "inpatientcharges_df.head()\n",
    "# inpatientcharges_df[' Average Covered Charges ',' Average Total Payments ', 'Average Medicare Payments']"
   ]
  },
  {
   "cell_type": "code",
   "execution_count": 39,
   "metadata": {},
   "outputs": [
    {
     "data": {
      "text/plain": [
       "['income', 'population', 'provider', 'inpatient']"
      ]
     },
     "execution_count": 39,
     "metadata": {},
     "output_type": "execute_result"
    }
   ],
   "source": [
    "engine.table_names()"
   ]
  },
  {
   "cell_type": "code",
   "execution_count": 40,
   "metadata": {},
   "outputs": [],
   "source": [
    "inpatientcharges_df.to_sql(name = 'inpatient', con=engine, if_exists='append', index=False)"
   ]
  },
  {
   "cell_type": "code",
   "execution_count": null,
   "metadata": {},
   "outputs": [],
   "source": []
  }
 ],
 "metadata": {
  "kernelspec": {
   "display_name": "Python [conda env:root] *",
   "language": "python",
   "name": "conda-root-py"
  },
  "language_info": {
   "codemirror_mode": {
    "name": "ipython",
    "version": 3
   },
   "file_extension": ".py",
   "mimetype": "text/x-python",
   "name": "python",
   "nbconvert_exporter": "python",
   "pygments_lexer": "ipython3",
   "version": "3.8.5"
  }
 },
 "nbformat": 4,
 "nbformat_minor": 4
}
